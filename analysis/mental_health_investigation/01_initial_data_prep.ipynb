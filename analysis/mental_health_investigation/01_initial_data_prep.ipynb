{
 "cells": [
  {
   "cell_type": "markdown",
   "metadata": {},
   "source": [
    "# Initial Data Prep\n",
    "\n",
    "Before completing any analysis, this notebook will check any processing required for data types, and split out data for training."
   ]
  },
  {
   "cell_type": "code",
   "execution_count": 5,
   "metadata": {},
   "outputs": [
    {
     "name": "stdout",
     "output_type": "stream",
     "text": [
      "<class 'pandas.core.frame.DataFrame'>\n",
      "RangeIndex: 413768 entries, 0 to 413767\n",
      "Data columns (total 16 columns):\n",
      " #   Column                        Non-Null Count   Dtype  \n",
      "---  ------                        --------------   -----  \n",
      " 0   Name                          413768 non-null  object \n",
      " 1   Age                           413768 non-null  int64  \n",
      " 2   Marital Status                413768 non-null  object \n",
      " 3   Education Level               413768 non-null  object \n",
      " 4   Number of Children            413768 non-null  int64  \n",
      " 5   Smoking Status                413768 non-null  object \n",
      " 6   Physical Activity Level       413768 non-null  object \n",
      " 7   Employment Status             413768 non-null  object \n",
      " 8   Income                        413768 non-null  float64\n",
      " 9   Alcohol Consumption           413768 non-null  object \n",
      " 10  Dietary Habits                413768 non-null  object \n",
      " 11  Sleep Patterns                413768 non-null  object \n",
      " 12  History of Mental Illness     413768 non-null  object \n",
      " 13  History of Substance Abuse    413768 non-null  object \n",
      " 14  Family History of Depression  413768 non-null  object \n",
      " 15  Chronic Medical Conditions    413768 non-null  object \n",
      "dtypes: float64(1), int64(2), object(13)\n",
      "memory usage: 50.5+ MB\n"
     ]
    }
   ],
   "source": [
    "import sys\n",
    "\n",
    "sys.path.append(\"../..\")\n",
    "\n",
    "import pandas as pd\n",
    "\n",
    "from src.params.project_params import DATA_PATHS\n",
    "\n",
    "mh_raw = pd.read_csv(DATA_PATHS[\"mh_raw\"])\n",
    "mh_raw.info()"
   ]
  },
  {
   "cell_type": "code",
   "execution_count": 6,
   "metadata": {},
   "outputs": [
    {
     "data": {
      "text/html": [
       "<div>\n",
       "<style scoped>\n",
       "    .dataframe tbody tr th:only-of-type {\n",
       "        vertical-align: middle;\n",
       "    }\n",
       "\n",
       "    .dataframe tbody tr th {\n",
       "        vertical-align: top;\n",
       "    }\n",
       "\n",
       "    .dataframe thead th {\n",
       "        text-align: right;\n",
       "    }\n",
       "</style>\n",
       "<table border=\"1\" class=\"dataframe\">\n",
       "  <thead>\n",
       "    <tr style=\"text-align: right;\">\n",
       "      <th></th>\n",
       "      <th>Name</th>\n",
       "      <th>Age</th>\n",
       "      <th>Marital Status</th>\n",
       "      <th>Education Level</th>\n",
       "      <th>Number of Children</th>\n",
       "      <th>Smoking Status</th>\n",
       "      <th>Physical Activity Level</th>\n",
       "      <th>Employment Status</th>\n",
       "      <th>Income</th>\n",
       "      <th>Alcohol Consumption</th>\n",
       "      <th>Dietary Habits</th>\n",
       "      <th>Sleep Patterns</th>\n",
       "      <th>History of Mental Illness</th>\n",
       "      <th>History of Substance Abuse</th>\n",
       "      <th>Family History of Depression</th>\n",
       "      <th>Chronic Medical Conditions</th>\n",
       "    </tr>\n",
       "  </thead>\n",
       "  <tbody>\n",
       "    <tr>\n",
       "      <th>0</th>\n",
       "      <td>Christine Barker</td>\n",
       "      <td>31</td>\n",
       "      <td>Married</td>\n",
       "      <td>Bachelor's Degree</td>\n",
       "      <td>2</td>\n",
       "      <td>Non-smoker</td>\n",
       "      <td>Active</td>\n",
       "      <td>Unemployed</td>\n",
       "      <td>26265.67</td>\n",
       "      <td>Moderate</td>\n",
       "      <td>Moderate</td>\n",
       "      <td>Fair</td>\n",
       "      <td>Yes</td>\n",
       "      <td>No</td>\n",
       "      <td>Yes</td>\n",
       "      <td>Yes</td>\n",
       "    </tr>\n",
       "    <tr>\n",
       "      <th>1</th>\n",
       "      <td>Jacqueline Lewis</td>\n",
       "      <td>55</td>\n",
       "      <td>Married</td>\n",
       "      <td>High School</td>\n",
       "      <td>1</td>\n",
       "      <td>Non-smoker</td>\n",
       "      <td>Sedentary</td>\n",
       "      <td>Employed</td>\n",
       "      <td>42710.36</td>\n",
       "      <td>High</td>\n",
       "      <td>Unhealthy</td>\n",
       "      <td>Fair</td>\n",
       "      <td>Yes</td>\n",
       "      <td>No</td>\n",
       "      <td>No</td>\n",
       "      <td>Yes</td>\n",
       "    </tr>\n",
       "    <tr>\n",
       "      <th>2</th>\n",
       "      <td>Shannon Church</td>\n",
       "      <td>78</td>\n",
       "      <td>Widowed</td>\n",
       "      <td>Master's Degree</td>\n",
       "      <td>1</td>\n",
       "      <td>Non-smoker</td>\n",
       "      <td>Sedentary</td>\n",
       "      <td>Employed</td>\n",
       "      <td>125332.79</td>\n",
       "      <td>Low</td>\n",
       "      <td>Unhealthy</td>\n",
       "      <td>Good</td>\n",
       "      <td>No</td>\n",
       "      <td>No</td>\n",
       "      <td>Yes</td>\n",
       "      <td>No</td>\n",
       "    </tr>\n",
       "    <tr>\n",
       "      <th>3</th>\n",
       "      <td>Charles Jordan</td>\n",
       "      <td>58</td>\n",
       "      <td>Divorced</td>\n",
       "      <td>Master's Degree</td>\n",
       "      <td>3</td>\n",
       "      <td>Non-smoker</td>\n",
       "      <td>Moderate</td>\n",
       "      <td>Unemployed</td>\n",
       "      <td>9992.78</td>\n",
       "      <td>Moderate</td>\n",
       "      <td>Moderate</td>\n",
       "      <td>Poor</td>\n",
       "      <td>No</td>\n",
       "      <td>No</td>\n",
       "      <td>No</td>\n",
       "      <td>No</td>\n",
       "    </tr>\n",
       "    <tr>\n",
       "      <th>4</th>\n",
       "      <td>Michael Rich</td>\n",
       "      <td>18</td>\n",
       "      <td>Single</td>\n",
       "      <td>High School</td>\n",
       "      <td>0</td>\n",
       "      <td>Non-smoker</td>\n",
       "      <td>Sedentary</td>\n",
       "      <td>Unemployed</td>\n",
       "      <td>8595.08</td>\n",
       "      <td>Low</td>\n",
       "      <td>Moderate</td>\n",
       "      <td>Fair</td>\n",
       "      <td>Yes</td>\n",
       "      <td>No</td>\n",
       "      <td>Yes</td>\n",
       "      <td>Yes</td>\n",
       "    </tr>\n",
       "  </tbody>\n",
       "</table>\n",
       "</div>"
      ],
      "text/plain": [
       "               Name  Age Marital Status    Education Level  \\\n",
       "0  Christine Barker   31        Married  Bachelor's Degree   \n",
       "1  Jacqueline Lewis   55        Married        High School   \n",
       "2    Shannon Church   78        Widowed    Master's Degree   \n",
       "3    Charles Jordan   58       Divorced    Master's Degree   \n",
       "4      Michael Rich   18         Single        High School   \n",
       "\n",
       "   Number of Children Smoking Status Physical Activity Level  \\\n",
       "0                   2     Non-smoker                  Active   \n",
       "1                   1     Non-smoker               Sedentary   \n",
       "2                   1     Non-smoker               Sedentary   \n",
       "3                   3     Non-smoker                Moderate   \n",
       "4                   0     Non-smoker               Sedentary   \n",
       "\n",
       "  Employment Status     Income Alcohol Consumption Dietary Habits  \\\n",
       "0        Unemployed   26265.67            Moderate       Moderate   \n",
       "1          Employed   42710.36                High      Unhealthy   \n",
       "2          Employed  125332.79                 Low      Unhealthy   \n",
       "3        Unemployed    9992.78            Moderate       Moderate   \n",
       "4        Unemployed    8595.08                 Low       Moderate   \n",
       "\n",
       "  Sleep Patterns History of Mental Illness History of Substance Abuse  \\\n",
       "0           Fair                       Yes                         No   \n",
       "1           Fair                       Yes                         No   \n",
       "2           Good                        No                         No   \n",
       "3           Poor                        No                         No   \n",
       "4           Fair                       Yes                         No   \n",
       "\n",
       "  Family History of Depression Chronic Medical Conditions  \n",
       "0                          Yes                        Yes  \n",
       "1                           No                        Yes  \n",
       "2                          Yes                         No  \n",
       "3                           No                         No  \n",
       "4                          Yes                        Yes  "
      ]
     },
     "execution_count": 6,
     "metadata": {},
     "output_type": "execute_result"
    }
   ],
   "source": [
    "mh_raw.head()"
   ]
  },
  {
   "cell_type": "markdown",
   "metadata": {},
   "source": [
    "Upon initial inspection, all columns are non-null, mostly categorical, including several columns that are binary but represented as yes/no\n",
    "\n",
    "There is no ID, or obvious ordering of the rows, so the data can be split based on a random subsample.\n",
    "\n",
    "Proposed processing of the data:\n",
    "\n",
    "|    | Column                       | Assessment                          |\n",
    "|----|------------------------------|-------------------------------------|\n",
    "| 0  | Name                         | No predictive value                 |\n",
    "| 1  | Age                          | Leave as is                         |\n",
    "| 2  | Marital Status               | OHE or MRE, review below            |\n",
    "| 3  | Education Level              | Possibly ordinal, review below      |\n",
    "| 4  | Number of Children           | Leave as is                         |\n",
    "| 5  | Smoking Status               | Appears binary                      |\n",
    "| 6  | Physical Activity Level      | Possibly ordinal, review below      |\n",
    "| 7  | Employment Status            | Appears binary                      |\n",
    "| 8  | Income                       | Review distribution after splitting |\n",
    "| 9  | Alcohol Consumption          | Possibly ordinal, review below      |\n",
    "| 10 | Dietary Habits               | Possibly ordinal, review below      |\n",
    "| 11 | Sleep Patterns               | Possibly ordinal, review below      |\n",
    "| 12 | History of Mental Illness    | Appears binary                      |\n",
    "| 13 | History of Substance Abuse   | Appears binary                      |\n",
    "| 14 | Family History of Depression | Appears binary                      |\n",
    "| 15 | Chronic Medical Conditions   | Appears binary                      |"
   ]
  },
  {
   "cell_type": "markdown",
   "metadata": {},
   "source": [
    "## 'Binary' Fields"
   ]
  },
  {
   "cell_type": "code",
   "execution_count": 7,
   "metadata": {},
   "outputs": [
    {
     "name": "stdout",
     "output_type": "stream",
     "text": [
      "Smoking Status:\n",
      "['Non-smoker' 'Former' 'Current']\n",
      "Employment Status:\n",
      "['Unemployed' 'Employed']\n",
      "History of Mental Illness:\n",
      "['Yes' 'No']\n",
      "History of Substance Abuse:\n",
      "['No' 'Yes']\n",
      "Family History of Depression:\n",
      "['Yes' 'No']\n",
      "Chronic Medical Conditions:\n",
      "['Yes' 'No']\n"
     ]
    }
   ],
   "source": [
    "binary_fields = [\n",
    "    \"Smoking Status\",\n",
    "    \"Employment Status\",\n",
    "    \"History of Mental Illness\",\n",
    "    \"History of Substance Abuse\",\n",
    "    \"Family History of Depression\",\n",
    "    \"Chronic Medical Conditions\",\n",
    "]\n",
    "\n",
    "for field in binary_fields:\n",
    "    print(f\"{field}:\\n{mh_raw[field].unique()}\")"
   ]
  },
  {
   "cell_type": "markdown",
   "metadata": {},
   "source": [
    "As above, smoking status is not binary, though the others are. The four yes/no fields can be mapped to binary immediately, employment status will be handled my making a binary 'employed' field"
   ]
  },
  {
   "cell_type": "markdown",
   "metadata": {},
   "source": [
    "## 'Ordinal' Fields\n",
    "\n",
    "Ordinal encoding is most useful when there is an apparent order to the categories, as this ordering can be used by most predictiv emodels. It's less useful for fields with no obvious order, where OHE/MRE is more suitable"
   ]
  },
  {
   "cell_type": "code",
   "execution_count": 8,
   "metadata": {},
   "outputs": [
    {
     "name": "stdout",
     "output_type": "stream",
     "text": [
      "Education Level:\n",
      "[\"Bachelor's Degree\" 'High School' \"Master's Degree\" 'Associate Degree'\n",
      " 'PhD']\n"
     ]
    },
    {
     "name": "stdout",
     "output_type": "stream",
     "text": [
      "Physical Activity Level:\n",
      "['Active' 'Sedentary' 'Moderate']\n",
      "Alcohol Consumption:\n",
      "['Moderate' 'High' 'Low']\n",
      "Dietary Habits:\n",
      "['Moderate' 'Unhealthy' 'Healthy']\n",
      "Sleep Patterns:\n",
      "['Fair' 'Good' 'Poor']\n"
     ]
    }
   ],
   "source": [
    "ordinal_fields = [\n",
    "    \"Education Level\",\n",
    "    \"Physical Activity Level\",\n",
    "    \"Alcohol Consumption\",\n",
    "    \"Dietary Habits\",\n",
    "    \"Sleep Patterns\",\n",
    "]\n",
    "\n",
    "for field in ordinal_fields:\n",
    "    print(f\"{field}:\\n{mh_raw[field].unique()}\")"
   ]
  },
  {
   "cell_type": "markdown",
   "metadata": {},
   "source": [
    "All of these fields can be ordinally encoded, which may be more useful than OHE/MRE but this will need investigating"
   ]
  },
  {
   "cell_type": "code",
   "execution_count": null,
   "metadata": {},
   "outputs": [],
   "source": []
  }
 ],
 "metadata": {
  "kernelspec": {
   "display_name": ".venv",
   "language": "python",
   "name": "python3"
  },
  "language_info": {
   "codemirror_mode": {
    "name": "ipython",
    "version": 3
   },
   "file_extension": ".py",
   "mimetype": "text/x-python",
   "name": "python",
   "nbconvert_exporter": "python",
   "pygments_lexer": "ipython3",
   "version": "3.12.1"
  }
 },
 "nbformat": 4,
 "nbformat_minor": 2
}
